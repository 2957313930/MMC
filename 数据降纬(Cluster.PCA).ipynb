{
 "cells": [
  {
   "cell_type": "markdown",
   "id": "79cb96be",
   "metadata": {},
   "source": [
    "# 准备练习"
   ]
  },
  {
   "cell_type": "markdown",
   "id": "ce088554",
   "metadata": {},
   "source": [
    "## 导入数据集和库"
   ]
  },
  {
   "cell_type": "code",
   "execution_count": 1,
   "id": "0890924a",
   "metadata": {
    "ExecuteTime": {
     "end_time": "2021-08-20T11:25:31.602585Z",
     "start_time": "2021-08-20T11:25:30.031131Z"
    },
    "collapsed": true
   },
   "outputs": [
    {
     "data": {
      "text/html": [
       "<div>\n",
       "<style scoped>\n",
       "    .dataframe tbody tr th:only-of-type {\n",
       "        vertical-align: middle;\n",
       "    }\n",
       "\n",
       "    .dataframe tbody tr th {\n",
       "        vertical-align: top;\n",
       "    }\n",
       "\n",
       "    .dataframe thead th {\n",
       "        text-align: right;\n",
       "    }\n",
       "</style>\n",
       "<table border=\"1\" class=\"dataframe\">\n",
       "  <thead>\n",
       "    <tr style=\"text-align: right;\">\n",
       "      <th></th>\n",
       "      <th>玫瑰花</th>\n",
       "      <th>霸王花</th>\n",
       "      <th>郁金香</th>\n",
       "      <th>康乃馨</th>\n",
       "    </tr>\n",
       "  </thead>\n",
       "  <tbody>\n",
       "    <tr>\n",
       "      <th>0</th>\n",
       "      <td>5.1</td>\n",
       "      <td>3.5</td>\n",
       "      <td>1.4</td>\n",
       "      <td>0.2</td>\n",
       "    </tr>\n",
       "    <tr>\n",
       "      <th>1</th>\n",
       "      <td>4.9</td>\n",
       "      <td>3.0</td>\n",
       "      <td>1.4</td>\n",
       "      <td>0.2</td>\n",
       "    </tr>\n",
       "    <tr>\n",
       "      <th>2</th>\n",
       "      <td>4.7</td>\n",
       "      <td>3.2</td>\n",
       "      <td>1.3</td>\n",
       "      <td>0.2</td>\n",
       "    </tr>\n",
       "    <tr>\n",
       "      <th>3</th>\n",
       "      <td>4.6</td>\n",
       "      <td>3.1</td>\n",
       "      <td>1.5</td>\n",
       "      <td>0.2</td>\n",
       "    </tr>\n",
       "    <tr>\n",
       "      <th>4</th>\n",
       "      <td>5.0</td>\n",
       "      <td>3.6</td>\n",
       "      <td>1.4</td>\n",
       "      <td>0.2</td>\n",
       "    </tr>\n",
       "    <tr>\n",
       "      <th>...</th>\n",
       "      <td>...</td>\n",
       "      <td>...</td>\n",
       "      <td>...</td>\n",
       "      <td>...</td>\n",
       "    </tr>\n",
       "    <tr>\n",
       "      <th>145</th>\n",
       "      <td>6.7</td>\n",
       "      <td>3.0</td>\n",
       "      <td>5.2</td>\n",
       "      <td>2.3</td>\n",
       "    </tr>\n",
       "    <tr>\n",
       "      <th>146</th>\n",
       "      <td>6.3</td>\n",
       "      <td>2.5</td>\n",
       "      <td>5.0</td>\n",
       "      <td>1.9</td>\n",
       "    </tr>\n",
       "    <tr>\n",
       "      <th>147</th>\n",
       "      <td>6.5</td>\n",
       "      <td>3.0</td>\n",
       "      <td>5.2</td>\n",
       "      <td>2.0</td>\n",
       "    </tr>\n",
       "    <tr>\n",
       "      <th>148</th>\n",
       "      <td>6.2</td>\n",
       "      <td>3.4</td>\n",
       "      <td>5.4</td>\n",
       "      <td>2.3</td>\n",
       "    </tr>\n",
       "    <tr>\n",
       "      <th>149</th>\n",
       "      <td>5.9</td>\n",
       "      <td>3.0</td>\n",
       "      <td>5.1</td>\n",
       "      <td>1.8</td>\n",
       "    </tr>\n",
       "  </tbody>\n",
       "</table>\n",
       "<p>150 rows × 4 columns</p>\n",
       "</div>"
      ],
      "text/plain": [
       "     玫瑰花  霸王花  郁金香  康乃馨\n",
       "0    5.1  3.5  1.4  0.2\n",
       "1    4.9  3.0  1.4  0.2\n",
       "2    4.7  3.2  1.3  0.2\n",
       "3    4.6  3.1  1.5  0.2\n",
       "4    5.0  3.6  1.4  0.2\n",
       "..   ...  ...  ...  ...\n",
       "145  6.7  3.0  5.2  2.3\n",
       "146  6.3  2.5  5.0  1.9\n",
       "147  6.5  3.0  5.2  2.0\n",
       "148  6.2  3.4  5.4  2.3\n",
       "149  5.9  3.0  5.1  1.8\n",
       "\n",
       "[150 rows x 4 columns]"
      ]
     },
     "execution_count": 1,
     "metadata": {},
     "output_type": "execute_result"
    }
   ],
   "source": [
    "import matplotlib.pyplot as plt\n",
    "import pandas as pd\n",
    "from sklearn.preprocessing import scale\n",
    "from sklearn.decomposition import PCA\n",
    "from sklearn.datasets import load_iris\n",
    "\n",
    "X = load_iris().data\n",
    "label = load_iris().target\n",
    "names = load_iris().target_names\n",
    "data = pd.DataFrame(X, columns=['玫瑰花', '霸王花', '郁金香', '康乃馨'])\n",
    "data"
   ]
  },
  {
   "cell_type": "markdown",
   "id": "b0339ea4",
   "metadata": {},
   "source": [
    "## 归一化数据"
   ]
  },
  {
   "cell_type": "code",
   "execution_count": 2,
   "id": "0ef50fb0",
   "metadata": {
    "ExecuteTime": {
     "end_time": "2021-08-20T11:25:31.896344Z",
     "start_time": "2021-08-20T11:25:31.604579Z"
    },
    "collapsed": true
   },
   "outputs": [
    {
     "data": {
      "image/png": "[encoded data removed]",
      "text/plain": [
       "<Figure size 432x288 with 1 Axes>"
      ]
     },
     "metadata": {
      "needs_background": "light"
     },
     "output_type": "display_data"
    }
   ],
   "source": [
    "newX = scale(X)\n",
    "pca = PCA(n_components=2).fit(newX)\n",
    "X_dec = pca.transform(newX)\n",
    "colors = ['orange', 'pink', 'blue', 'cyan']\n",
    "for i in range(3):\n",
    "    plt.scatter(X_dec[label == i, 0],\n",
    "                X_dec[label == i, 1],\n",
    "                color=colors[i],\n",
    "                marker='o',\n",
    "                edgecolor='k',\n",
    "                label=names[i])\n",
    "plt.legend(loc=0)\n",
    "plt.show()"
   ]
  },
  {
   "cell_type": "markdown",
   "id": "d66f306a",
   "metadata": {
    "ExecuteTime": {
     "end_time": "2021-08-20T10:12:56.795206Z",
     "start_time": "2021-08-20T10:12:56.785193Z"
    }
   },
   "source": [
    "## 方差解释"
   ]
  },
  {
   "cell_type": "markdown",
   "id": "4443881c",
   "metadata": {
    "ExecuteTime": {
     "end_time": "2021-08-20T10:14:05.592289Z",
     "start_time": "2021-08-20T10:14:05.573366Z"
    }
   },
   "source": [
    "重新计算降纬后的特征方差"
   ]
  },
  {
   "cell_type": "code",
   "execution_count": 3,
   "id": "6f2f3097",
   "metadata": {
    "ExecuteTime": {
     "end_time": "2021-08-20T11:25:31.911058Z",
     "start_time": "2021-08-20T11:25:31.898338Z"
    },
    "collapsed": true
   },
   "outputs": [
    {
     "data": {
      "text/plain": [
       "array([2.93808505, 0.9201649 ])"
      ]
     },
     "execution_count": 3,
     "metadata": {},
     "output_type": "execute_result"
    }
   ],
   "source": [
    "pca.explained_variance_"
   ]
  },
  {
   "cell_type": "markdown",
   "id": "c9487d48",
   "metadata": {},
   "source": [
    "方差解释"
   ]
  },
  {
   "cell_type": "code",
   "execution_count": 4,
   "id": "9ea8bded",
   "metadata": {
    "ExecuteTime": {
     "end_time": "2021-08-20T11:25:31.927015Z",
     "start_time": "2021-08-20T11:25:31.914050Z"
    },
    "collapsed": true
   },
   "outputs": [
    {
     "data": {
      "text/plain": [
       "array([0.72962445, 0.22850762])"
      ]
     },
     "execution_count": 4,
     "metadata": {},
     "output_type": "execute_result"
    }
   ],
   "source": [
    "pca.explained_variance_ratio_  #可见第一列降维数据最为代表性"
   ]
  },
  {
   "cell_type": "code",
   "execution_count": 5,
   "id": "b949a7d2",
   "metadata": {
    "ExecuteTime": {
     "end_time": "2021-08-20T11:25:31.942972Z",
     "start_time": "2021-08-20T11:25:31.929009Z"
    },
    "collapsed": true
   },
   "outputs": [
    {
     "data": {
      "text/plain": [
       "0.04186792799998362"
      ]
     },
     "execution_count": 5,
     "metadata": {},
     "output_type": "execute_result"
    }
   ],
   "source": [
    "1 - pca.explained_variance_ratio_.sum()  #损失信息量"
   ]
  },
  {
   "cell_type": "markdown",
   "id": "57370903",
   "metadata": {},
   "source": [
    "## 确定特征个数，作出如下曲线"
   ]
  },
  {
   "cell_type": "code",
   "execution_count": 6,
   "id": "4003e013",
   "metadata": {
    "ExecuteTime": {
     "end_time": "2021-08-20T11:25:32.161079Z",
     "start_time": "2021-08-20T11:25:31.944968Z"
    },
    "collapsed": true
   },
   "outputs": [
    {
     "data": {
      "image/png": "[encoded data removed]",
      "text/plain": [
       "<Figure size 432x288 with 1 Axes>"
      ]
     },
     "metadata": {
      "needs_background": "light"
     },
     "output_type": "display_data"
    }
   ],
   "source": [
    "ratio = []\n",
    "for i in range(1, min(X.shape) + 1):\n",
    "    pca = PCA(n_components=i).fit(X)\n",
    "    x = pca.explained_variance_ratio_.sum()\n",
    "    ratio.append(x)\n",
    "plt.plot(range(1, min(X.shape) + 1), ratio)\n",
    "plt.scatter(range(1,\n",
    "                  min(X.shape) + 1),\n",
    "            ratio,\n",
    "            marker='o',\n",
    "            edgecolor='k',\n",
    "            color='red')\n",
    "plt.xlabel('count of remaining features')\n",
    "plt.ylabel('summary of explained variance ration ')\n",
    "plt.show()"
   ]
  },
  {
   "cell_type": "code",
   "execution_count": 7,
   "id": "f2a77246",
   "metadata": {
    "ExecuteTime": {
     "end_time": "2021-08-20T11:25:32.224829Z",
     "start_time": "2021-08-20T11:25:32.162603Z"
    }
   },
   "outputs": [],
   "source": [
    "# 测试机集\n",
    "data.to_excel(r'./鸢尾花数据测试集.xlsx')"
   ]
  },
  {
   "cell_type": "markdown",
   "id": "88711c3d",
   "metadata": {
    "ExecuteTime": {
     "end_time": "2021-08-20T10:49:57.094957Z",
     "start_time": "2021-08-20T10:49:57.083914Z"
    }
   },
   "source": [
    "x=np.random.uniform(0,1,(1,4))\n",
    "\n",
    "np.cumsum(x,axis=1)\n",
    "\n",
    "用于计算逐步累计值"
   ]
  },
  {
   "cell_type": "markdown",
   "id": "717c52c1",
   "metadata": {
    "ExecuteTime": {
     "end_time": "2021-08-20T10:49:59.630750Z",
     "start_time": "2021-08-20T10:49:59.610164Z"
    }
   },
   "source": [
    "# 完整代码"
   ]
  },
  {
   "cell_type": "code",
   "execution_count": 8,
   "id": "defccf9e",
   "metadata": {
    "ExecuteTime": {
     "end_time": "2021-08-20T11:25:32.615795Z",
     "start_time": "2021-08-20T11:25:32.226824Z"
    },
    "collapsed": true
   },
   "outputs": [
    {
     "data": {
      "text/html": [
       "<div>\n",
       "<style scoped>\n",
       "    .dataframe tbody tr th:only-of-type {\n",
       "        vertical-align: middle;\n",
       "    }\n",
       "\n",
       "    .dataframe tbody tr th {\n",
       "        vertical-align: top;\n",
       "    }\n",
       "\n",
       "    .dataframe thead th {\n",
       "        text-align: right;\n",
       "    }\n",
       "</style>\n",
       "<table border=\"1\" class=\"dataframe\">\n",
       "  <thead>\n",
       "    <tr style=\"text-align: right;\">\n",
       "      <th></th>\n",
       "      <th>玫瑰花</th>\n",
       "      <th>霸王花</th>\n",
       "      <th>郁金香</th>\n",
       "      <th>康乃馨</th>\n",
       "    </tr>\n",
       "  </thead>\n",
       "  <tbody>\n",
       "    <tr>\n",
       "      <th>0</th>\n",
       "      <td>5.1</td>\n",
       "      <td>3.5</td>\n",
       "      <td>1.4</td>\n",
       "      <td>0.2</td>\n",
       "    </tr>\n",
       "    <tr>\n",
       "      <th>1</th>\n",
       "      <td>4.9</td>\n",
       "      <td>3.0</td>\n",
       "      <td>1.4</td>\n",
       "      <td>0.2</td>\n",
       "    </tr>\n",
       "    <tr>\n",
       "      <th>2</th>\n",
       "      <td>4.7</td>\n",
       "      <td>3.2</td>\n",
       "      <td>1.3</td>\n",
       "      <td>0.2</td>\n",
       "    </tr>\n",
       "    <tr>\n",
       "      <th>3</th>\n",
       "      <td>4.6</td>\n",
       "      <td>3.1</td>\n",
       "      <td>1.5</td>\n",
       "      <td>0.2</td>\n",
       "    </tr>\n",
       "    <tr>\n",
       "      <th>4</th>\n",
       "      <td>5.0</td>\n",
       "      <td>3.6</td>\n",
       "      <td>1.4</td>\n",
       "      <td>0.2</td>\n",
       "    </tr>\n",
       "    <tr>\n",
       "      <th>...</th>\n",
       "      <td>...</td>\n",
       "      <td>...</td>\n",
       "      <td>...</td>\n",
       "      <td>...</td>\n",
       "    </tr>\n",
       "    <tr>\n",
       "      <th>145</th>\n",
       "      <td>6.7</td>\n",
       "      <td>3.0</td>\n",
       "      <td>5.2</td>\n",
       "      <td>2.3</td>\n",
       "    </tr>\n",
       "    <tr>\n",
       "      <th>146</th>\n",
       "      <td>6.3</td>\n",
       "      <td>2.5</td>\n",
       "      <td>5.0</td>\n",
       "      <td>1.9</td>\n",
       "    </tr>\n",
       "    <tr>\n",
       "      <th>147</th>\n",
       "      <td>6.5</td>\n",
       "      <td>3.0</td>\n",
       "      <td>5.2</td>\n",
       "      <td>2.0</td>\n",
       "    </tr>\n",
       "    <tr>\n",
       "      <th>148</th>\n",
       "      <td>6.2</td>\n",
       "      <td>3.4</td>\n",
       "      <td>5.4</td>\n",
       "      <td>2.3</td>\n",
       "    </tr>\n",
       "    <tr>\n",
       "      <th>149</th>\n",
       "      <td>5.9</td>\n",
       "      <td>3.0</td>\n",
       "      <td>5.1</td>\n",
       "      <td>1.8</td>\n",
       "    </tr>\n",
       "  </tbody>\n",
       "</table>\n",
       "<p>150 rows × 4 columns</p>\n",
       "</div>"
      ],
      "text/plain": [
       "     玫瑰花  霸王花  郁金香  康乃馨\n",
       "0    5.1  3.5  1.4  0.2\n",
       "1    4.9  3.0  1.4  0.2\n",
       "2    4.7  3.2  1.3  0.2\n",
       "3    4.6  3.1  1.5  0.2\n",
       "4    5.0  3.6  1.4  0.2\n",
       "..   ...  ...  ...  ...\n",
       "145  6.7  3.0  5.2  2.3\n",
       "146  6.3  2.5  5.0  1.9\n",
       "147  6.5  3.0  5.2  2.0\n",
       "148  6.2  3.4  5.4  2.3\n",
       "149  5.9  3.0  5.1  1.8\n",
       "\n",
       "[150 rows x 4 columns]"
      ]
     },
     "execution_count": 8,
     "metadata": {},
     "output_type": "execute_result"
    }
   ],
   "source": [
    "import matplotlib.pyplot as plt\n",
    "from sklearn.preprocessing import scale\n",
    "from sklearn.decomposition import PCA\n",
    "import pandas as pd\n",
    "import numpy as np\n",
    "\n",
    "plt.rcParams['font.sans-serif'] = ['SimHei']  #显示中文\n",
    "plt.rcParams['axes.unicode_minus'] = False  #用来正常显示负号\n",
    "fpath = r'./鸢尾花数据测试集.xlsx'\n",
    "data = pd.read_excel(fpath, usecols=[1, 2, 3, 4])\n",
    "data"
   ]
  },
  {
   "cell_type": "code",
   "execution_count": 9,
   "id": "ac0038be",
   "metadata": {
    "ExecuteTime": {
     "end_time": "2021-08-20T11:25:32.895356Z",
     "start_time": "2021-08-20T11:25:32.618776Z"
    },
    "collapsed": true
   },
   "outputs": [
    {
     "data": {
      "image/png": "[encoded data removed]",
      "text/plain": [
       "<Figure size 432x288 with 1 Axes>"
      ]
     },
     "metadata": {
      "needs_background": "light"
     },
     "output_type": "display_data"
    }
   ],
   "source": [
    "X = scale(data)  #标准化数据\n",
    "pca = PCA().fit(X)\n",
    "ratio = np.cumsum(pca.explained_variance_ratio_)\n",
    "plt.plot(range(1, min(ratio.shape) + 1), ratio, color='k')\n",
    "plt.scatter(range(1,\n",
    "                  min(ratio.shape) + 1),\n",
    "            ratio,\n",
    "            marker='o',\n",
    "            edgecolor='k',\n",
    "            color='k',\n",
    "            linewidth=1.5)\n",
    "plt.xlabel('保留特征个数', fontsize=13)\n",
    "plt.ylabel('方差解释率累加值', fontsize=13)\n",
    "plt.show()"
   ]
  },
  {
   "cell_type": "code",
   "execution_count": 10,
   "id": "27e585f2",
   "metadata": {
    "ExecuteTime": {
     "end_time": "2021-08-20T11:25:32.933330Z",
     "start_time": "2021-08-20T11:25:32.897351Z"
    }
   },
   "outputs": [],
   "source": [
    "# 降维数据写入，以留作接下来的数据处理分析\n",
    "pd.DataFrame(pca.transform(X)).to_excel(r'./PCA of data.xlsx')"
   ]
  },
  {
   "cell_type": "markdown",
   "id": "800a5bf7",
   "metadata": {},
   "source": [
    "从上图可以看出保留两个特征时，曲线变化平缓，说明去前两个特征比较好"
   ]
  }
 ],
 "metadata": {
  "hide_input": false,
  "kernelspec": {
   "display_name": "Python 3",
   "language": "python",
   "name": "python3"
  },
  "language_info": {
   "codemirror_mode": {
    "name": "ipython",
    "version": 3
   },
   "file_extension": ".py",
   "mimetype": "text/x-python",
   "name": "python",
   "nbconvert_exporter": "python",
   "pygments_lexer": "ipython3",
   "version": "3.8.5"
  },
  "latex_envs": {
   "LaTeX_envs_menu_present": true,
   "autoclose": false,
   "autocomplete": true,
   "bibliofile": "biblio.bib",
   "cite_by": "apalike",
   "current_citInitial": 1,
   "eqLabelWithNumbers": true,
   "eqNumInitial": 1,
   "hotkeys": {
    "equation": "Ctrl-E",
    "itemize": "Ctrl-I"
   },
   "labels_anchors": false,
   "latex_user_defs": false,
   "report_style_numbering": false,
   "user_envs_cfg": false
  },
  "nbTranslate": {
   "displayLangs": [
    "*"
   ],
   "hotkey": "alt-t",
   "langInMainMenu": true,
   "sourceLang": "en",
   "targetLang": "fr",
   "useGoogleTranslate": true
  },
  "toc": {
   "base_numbering": 1,
   "nav_menu": {},
   "number_sections": true,
   "sideBar": true,
   "skip_h1_title": false,
   "title_cell": "Table of Contents",
   "title_sidebar": "Contents",
   "toc_cell": false,
   "toc_position": {},
   "toc_section_display": true,
   "toc_window_display": true
  },
  "varInspector": {
   "cols": {
    "lenName": 16,
    "lenType": 16,
    "lenVar": 40
   },
   "kernels_config": {
    "python": {
     "delete_cmd_postfix": "",
     "delete_cmd_prefix": "del ",
     "library": "var_list.py",
     "varRefreshCmd": "print(var_dic_list())"
    },
    "r": {
     "delete_cmd_postfix": ") ",
     "delete_cmd_prefix": "rm(",
     "library": "var_list.r",
     "varRefreshCmd": "cat(var_dic_list()) "
    }
   },
   "types_to_exclude": [
    "module",
    "function",
    "builtin_function_or_method",
    "instance",
    "_Feature"
   ],
   "window_display": false
  }
 },
 "nbformat": 4,
 "nbformat_minor": 5
}
