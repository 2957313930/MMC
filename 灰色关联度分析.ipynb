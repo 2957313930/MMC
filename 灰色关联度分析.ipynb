{
 "cells": [
  {
   "cell_type": "code",
   "execution_count": 88,
   "id": "0e688e33",
   "metadata": {
    "ExecuteTime": {
     "end_time": "2021-08-21T07:09:05.238864Z",
     "start_time": "2021-08-21T07:09:05.231883Z"
    }
   },
   "outputs": [],
   "source": [
    "import pandas as pd\n",
    "import matplotlib.pyplot as plt\n",
    "import numpy as np\n",
    "from sklearn.preprocessing import MinMaxScaler"
   ]
  },
  {
   "cell_type": "code",
   "execution_count": 84,
   "id": "d16a3511",
   "metadata": {
    "ExecuteTime": {
     "end_time": "2021-08-21T07:06:59.867886Z",
     "start_time": "2021-08-21T07:06:59.852839Z"
    }
   },
   "outputs": [
    {
     "data": {
      "text/html": [
       "<div>\n",
       "<style scoped>\n",
       "    .dataframe tbody tr th:only-of-type {\n",
       "        vertical-align: middle;\n",
       "    }\n",
       "\n",
       "    .dataframe tbody tr th {\n",
       "        vertical-align: top;\n",
       "    }\n",
       "\n",
       "    .dataframe thead th {\n",
       "        text-align: right;\n",
       "    }\n",
       "</style>\n",
       "<table border=\"1\" class=\"dataframe\">\n",
       "  <thead>\n",
       "    <tr style=\"text-align: right;\">\n",
       "      <th></th>\n",
       "      <th>指标0</th>\n",
       "      <th>指标1</th>\n",
       "      <th>指标2</th>\n",
       "      <th>指标3</th>\n",
       "      <th>指标4</th>\n",
       "    </tr>\n",
       "  </thead>\n",
       "  <tbody>\n",
       "    <tr>\n",
       "      <th>对象0</th>\n",
       "      <td>1.0</td>\n",
       "      <td>1.0</td>\n",
       "      <td>1.0</td>\n",
       "      <td>1.0</td>\n",
       "      <td>1.0</td>\n",
       "    </tr>\n",
       "    <tr>\n",
       "      <th>对象1</th>\n",
       "      <td>1.0</td>\n",
       "      <td>1.0</td>\n",
       "      <td>1.0</td>\n",
       "      <td>1.0</td>\n",
       "      <td>1.0</td>\n",
       "    </tr>\n",
       "    <tr>\n",
       "      <th>对象2</th>\n",
       "      <td>1.0</td>\n",
       "      <td>1.0</td>\n",
       "      <td>1.0</td>\n",
       "      <td>1.0</td>\n",
       "      <td>1.0</td>\n",
       "    </tr>\n",
       "    <tr>\n",
       "      <th>对象3</th>\n",
       "      <td>1.0</td>\n",
       "      <td>1.0</td>\n",
       "      <td>1.0</td>\n",
       "      <td>1.0</td>\n",
       "      <td>1.0</td>\n",
       "    </tr>\n",
       "    <tr>\n",
       "      <th>对象4</th>\n",
       "      <td>1.0</td>\n",
       "      <td>1.0</td>\n",
       "      <td>1.0</td>\n",
       "      <td>1.0</td>\n",
       "      <td>1.0</td>\n",
       "    </tr>\n",
       "  </tbody>\n",
       "</table>\n",
       "</div>"
      ],
      "text/plain": [
       "     指标0  指标1  指标2  指标3  指标4\n",
       "对象0  1.0  1.0  1.0  1.0  1.0\n",
       "对象1  1.0  1.0  1.0  1.0  1.0\n",
       "对象2  1.0  1.0  1.0  1.0  1.0\n",
       "对象3  1.0  1.0  1.0  1.0  1.0\n",
       "对象4  1.0  1.0  1.0  1.0  1.0"
      ]
     },
     "execution_count": 84,
     "metadata": {},
     "output_type": "execute_result"
    }
   ],
   "source": [
    "# 表格形如以下形式，数据写入Excel即可调用RA函数\n",
    "pd.DataFrame(np.ones(shape=(5, 5)),\n",
    "             columns=['指标{}'.format(i) for i in range(5)],\n",
    "             index=['对象{}'.format(i) for i in range(5)])"
   ]
  },
  {
   "cell_type": "markdown",
   "id": "2e3396a6",
   "metadata": {},
   "source": [
    "# 灰色关联矩阵"
   ]
  },
  {
   "cell_type": "markdown",
   "id": "c0a200d7",
   "metadata": {
    "variables": {
     "\\zeta }_{i": "<p><strong>SyntaxError</strong>: unexpected character after line continuation character (<ipython-input-130-245c550d9024>, line 1)</p>\n",
     "x}_{0": "<p><strong>SyntaxError</strong>: unmatched &#39;}&#39; (<ipython-input-130-d849f52155dc>, line 1)</p>\n",
     "x}_{i": "<p><strong>SyntaxError</strong>: unmatched &#39;}&#39; (<ipython-input-130-7bc8f6a79f53>, line 1)</p>\n",
     "x}_{s": "<p><strong>SyntaxError</strong>: unmatched &#39;}&#39; (<ipython-input-130-1c2cd76bde73>, line 1)</p>\n"
    }
   },
   "source": [
    "\\begin{equation*}\n",
    "{{\\zeta }_{i}}(k)=\\frac{\\underset{s}{\\mathop{\\min }}\\,\\underset{t}{\\mathop{\\min }}\\,\\left| {{x}_{0}}(t)-{{x}_{s}}(t) \\right|+\\rho \\underset{s}{\\mathop{\\max }}\\,\\underset{t}{\\mathop{\\max }}\\,\\left| {{x}_{0}}(t)-{{x}_{s}}(t) \\right|}{\\left| {{x}_{0}}(k)-{{x}_{i}}(k) \\right|+\\rho \\underset{s}{\\mathop{\\max }}\\,\\underset{t}{\\mathop{\\max }}\\,\\left| {{x}_{0}}(t)-{{x}_{s}}(t) \\right|}\n",
    "\\end{equation*}\n",
    "\\begin{equation*}\n",
    "x_0为参考数列\n",
    "\\end{equation*}\n"
   ]
  },
  {
   "cell_type": "code",
   "execution_count": null,
   "id": "3f2d129c",
   "metadata": {},
   "outputs": [],
   "source": [
    "# 数据归一化处理\n",
    "正   反   \n",
    "# 数值越大越好  还是越小越好"
   ]
  },
  {
   "cell_type": "code",
   "execution_count": 122,
   "id": "726ee235",
   "metadata": {
    "ExecuteTime": {
     "end_time": "2021-08-21T07:26:06.352121Z",
     "start_time": "2021-08-21T07:26:06.333159Z"
    }
   },
   "outputs": [],
   "source": [
    "def minmin(x0, x):  #x0为参考数列；x为对象矩阵\n",
    "    a = np.abs(x - x0)\n",
    "    b = np.min(a, axis=1)\n",
    "    return b.min()\n",
    "\n",
    "\n",
    "def maxmax(x0, x):\n",
    "    a = np.abs(x - x0)\n",
    "    b = np.max(a, axis=1)\n",
    "    return b.max()\n",
    "\n",
    "\n",
    "def kesi(x0, x, amin, bmax, k, ro=0.5):\n",
    "    c = np.abs(x - x0)\n",
    "    kesi_k = (amin + ro * bmax) / (c + ro * bmax)\n",
    "    return kesi_k.mean(axis=1).reshape(-1)\n",
    "\n",
    "\n",
    "# 关联矩阵\n",
    "def RA(x1, x):  #x,x均为矩阵\n",
    "    amin = minmin(x1[0], x)\n",
    "    bmax = maxmax(x1[0], x)\n",
    "    res = kesi(x1[0], x, amin, bmax, 1, ro=0.5)\n",
    "    for row in range(1, x1.shape[0]):\n",
    "        x0 = x1[row]\n",
    "        amin = minmin(x0, x)\n",
    "        bmax = maxmax(x0, x)\n",
    "        res1 = kesi(x0, x, amin, bmax, 1, ro=0.5)\n",
    "        res = np.vstack((res, res1))\n",
    "    return res"
   ]
  },
  {
   "cell_type": "code",
   "execution_count": 125,
   "id": "d45242b4",
   "metadata": {
    "ExecuteTime": {
     "end_time": "2021-08-21T07:26:31.583830Z",
     "start_time": "2021-08-21T07:26:31.568230Z"
    }
   },
   "outputs": [],
   "source": [
    "x0 = np.array([[8, 9, 8, 7, 5, 2, 9], [7, 8, 7, 5, 7, 3, 8]])\n",
    "\n",
    "x = np.array([[7, 8, 7, 5, 7, 3, 8], [9, 7, 9, 6, 6, 4, 7],\n",
    "              [6, 8, 8, 8, 4, 3, 6], [8, 6, 6, 9, 8, 3, 8],\n",
    "              [8, 9, 5, 7, 6, 4, 8], [8, 9, 8, 7, 5, 2, 9],\n",
    "              [7, 8, 7, 5, 7, 3, 8], [9, 7, 9, 6, 6, 4, 7],\n",
    "              [6, 8, 8, 8, 4, 3, 6]])\n",
    "x = np.random.normal(0, 1, (6, 9))"
   ]
  },
  {
   "cell_type": "code",
   "execution_count": 129,
   "id": "dc59f2a8",
   "metadata": {
    "ExecuteTime": {
     "end_time": "2021-08-21T07:31:17.531784Z",
     "start_time": "2021-08-21T07:31:16.813925Z"
    }
   },
   "outputs": [
    {
     "data": {
      "image/png": "[encoded data removed]",
      "text/plain": [
       "<Figure size 432x288 with 2 Axes>"
      ]
     },
     "metadata": {
      "needs_background": "light"
     },
     "output_type": "display_data"
    }
   ],
   "source": [
    "G = RA(x, x)\n",
    "import seaborn as sns\n",
    "import matplotlib.pyplot as plt\n",
    "\n",
    "plt.rcParams['font.sans-serif'] = ['SimHei']  #显示中文\n",
    "plt.rcParams['axes.unicode_minus'] = False  #用来正常显示负号\n",
    "fig, ax = plt.subplots(1, 1)  #必须这一句，不然无法show\n",
    "sns.heatmap(G, cmap='Greys', annot=True)\n",
    "plt.xticks(\n",
    "    np.arange(x.shape[0]) + 0.5,\n",
    "    ['因子{}'.format(i) for i in range(1, x.shape[0] + 1)])\n",
    "plt.yticks(\n",
    "    np.arange(x.shape[0]) + 0.5,\n",
    "    ['因子{}'.format(i) for i in range(1, x.shape[0] + 1)])\n",
    "plt.savefig(r'./灰色关联热力图.png', dpi=300)\n",
    "plt.show()"
   ]
  },
  {
   "cell_type": "markdown",
   "id": "0d137246",
   "metadata": {},
   "source": [
    "# 完整代码"
   ]
  },
  {
   "cell_type": "code",
   "execution_count": null,
   "id": "61bf710c",
   "metadata": {},
   "outputs": [],
   "source": [
    "import pandas as pd\n",
    "import matplotlib.pyplot as plt\n",
    "import numpy as np\n",
    "import seaborn as sns\n",
    "from sklearn.preprocessing import MinMaxScaler\n",
    "\n",
    "plt.rcParams['font.sans-serif'] = ['SimHei']  #显示中文\n",
    "plt.rcParams['axes.unicode_minus'] = False  #用来正常显示负号\n",
    "\n",
    "\n",
    "def minmin(x0, x):  #x0为参考数列；x为对象矩阵\n",
    "    a = np.abs(x - x0)\n",
    "    b = np.min(a, axis=1)\n",
    "    return b.min()\n",
    "\n",
    "\n",
    "def maxmax(x0, x):\n",
    "    a = np.abs(x - x0)\n",
    "    b = np.max(a, axis=1)\n",
    "    return b.max()\n",
    "\n",
    "\n",
    "def kesi(x0, x, amin, bmax, k, ro=0.5):\n",
    "    c = np.abs(x - x0)\n",
    "    kesi_k = (amin + ro * bmax) / (c + ro * bmax)\n",
    "    return kesi_k.mean(axis=1).reshape(-1)\n",
    "\n",
    "\n",
    "# 关联矩阵\n",
    "def RA(x1, x):  #x,x均为矩阵\n",
    "    amin = minmin(x1[0], x)\n",
    "    bmax = maxmax(x1[0], x)\n",
    "    res = kesi(x1[0], x, amin, bmax, 1, ro=0.5)\n",
    "    for row in range(1, x1.shape[0]):\n",
    "        x0 = x1[row]\n",
    "        amin = minmin(x0, x)\n",
    "        bmax = maxmax(x0, x)\n",
    "        res1 = kesi(x0, x, amin, bmax, 1, ro=0.5)\n",
    "        res = np.vstack((res, res1))\n",
    "    return res"
   ]
  },
  {
   "cell_type": "code",
   "execution_count": null,
   "id": "4c4c23c4",
   "metadata": {},
   "outputs": [],
   "source": [
    "# 直接调用RA即可，注意数据归一化\n",
    "# 已经导入MinMaxScaler"
   ]
  }
 ],
 "metadata": {
  "hide_input": false,
  "kernelspec": {
   "display_name": "Python 3",
   "language": "python",
   "name": "python3"
  },
  "language_info": {
   "codemirror_mode": {
    "name": "ipython",
    "version": 3
   },
   "file_extension": ".py",
   "mimetype": "text/x-python",
   "name": "python",
   "nbconvert_exporter": "python",
   "pygments_lexer": "ipython3",
   "version": "3.8.5"
  },
  "latex_envs": {
   "LaTeX_envs_menu_present": true,
   "autoclose": false,
   "autocomplete": true,
   "bibliofile": "biblio.bib",
   "cite_by": "apalike",
   "current_citInitial": 1,
   "eqLabelWithNumbers": true,
   "eqNumInitial": 1,
   "hotkeys": {
    "equation": "Ctrl-E",
    "itemize": "Ctrl-I"
   },
   "labels_anchors": false,
   "latex_user_defs": false,
   "report_style_numbering": false,
   "user_envs_cfg": false
  },
  "nbTranslate": {
   "displayLangs": [
    "*"
   ],
   "hotkey": "alt-t",
   "langInMainMenu": true,
   "sourceLang": "en",
   "targetLang": "fr",
   "useGoogleTranslate": true
  },
  "toc": {
   "base_numbering": 1,
   "nav_menu": {},
   "number_sections": true,
   "sideBar": true,
   "skip_h1_title": false,
   "title_cell": "Table of Contents",
   "title_sidebar": "Contents",
   "toc_cell": false,
   "toc_position": {
    "height": "calc(100% - 180px)",
    "left": "10px",
    "top": "150px",
    "width": "165px"
   },
   "toc_section_display": true,
   "toc_window_display": false
  },
  "varInspector": {
   "cols": {
    "lenName": 16,
    "lenType": 16,
    "lenVar": 40
   },
   "kernels_config": {
    "python": {
     "delete_cmd_postfix": "",
     "delete_cmd_prefix": "del ",
     "library": "var_list.py",
     "varRefreshCmd": "print(var_dic_list())"
    },
    "r": {
     "delete_cmd_postfix": ") ",
     "delete_cmd_prefix": "rm(",
     "library": "var_list.r",
     "varRefreshCmd": "cat(var_dic_list()) "
    }
   },
   "types_to_exclude": [
    "module",
    "function",
    "builtin_function_or_method",
    "instance",
    "_Feature"
   ],
   "window_display": false
  }
 },
 "nbformat": 4,
 "nbformat_minor": 5
}
