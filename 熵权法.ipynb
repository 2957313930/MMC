{
 "cells": [
  {
   "cell_type": "code",
   "execution_count": 1,
   "id": "38ba6180",
   "metadata": {
    "ExecuteTime": {
     "end_time": "2021-08-21T10:29:03.190011Z",
     "start_time": "2021-08-21T10:29:00.897601Z"
    }
   },
   "outputs": [],
   "source": [
    "from sklearn.preprocessing import MinMaxScaler\n",
    "from sklearn.datasets import make_blobs\n",
    "import pandas as pd \n",
    "import matplotlib.pyplot as plt \n",
    "import seaborn as sns \n",
    "import numpy as np\n",
    "plt.rcParams['font.sans-serif'] = ['SimHei']  #显示中文\n",
    "plt.rcParams['axes.unicode_minus'] = False  #用来正常显示负号"
   ]
  },
  {
   "cell_type": "code",
   "execution_count": 2,
   "id": "4b517d02",
   "metadata": {
    "ExecuteTime": {
     "end_time": "2021-08-21T10:29:03.205969Z",
     "start_time": "2021-08-21T10:29:03.192038Z"
    }
   },
   "outputs": [],
   "source": [
    "def weights(x):#计算权重\n",
    "    newX = MinMaxScaler().fit_transform(x) + 1e-10\n",
    "    P = newX / newX.sum(axis=0)\n",
    "    k = 1 / np.log(newX.shape[0])\n",
    "    ej = -k * (P * np.log(P)).sum(axis=0)\n",
    "    gj = 1 - ej\n",
    "    wj = gj / gj.sum()\n",
    "    return wj\n",
    "def grade(wj,x):#打分\n",
    "    return np.dot(x,wj.T)"
   ]
  },
  {
   "cell_type": "code",
   "execution_count": 3,
   "id": "1a7a4390",
   "metadata": {
    "ExecuteTime": {
     "end_time": "2021-08-21T10:29:03.253840Z",
     "start_time": "2021-08-21T10:29:03.223920Z"
    }
   },
   "outputs": [
    {
     "data": {
      "text/html": [
       "<div>\n",
       "<style scoped>\n",
       "    .dataframe tbody tr th:only-of-type {\n",
       "        vertical-align: middle;\n",
       "    }\n",
       "\n",
       "    .dataframe tbody tr th {\n",
       "        vertical-align: top;\n",
       "    }\n",
       "\n",
       "    .dataframe thead th {\n",
       "        text-align: right;\n",
       "    }\n",
       "</style>\n",
       "<table border=\"1\" class=\"dataframe\">\n",
       "  <thead>\n",
       "    <tr style=\"text-align: right;\">\n",
       "      <th></th>\n",
       "      <th>0</th>\n",
       "      <th>1</th>\n",
       "      <th>2</th>\n",
       "      <th>3</th>\n",
       "      <th>4</th>\n",
       "      <th>5</th>\n",
       "    </tr>\n",
       "  </thead>\n",
       "  <tbody>\n",
       "    <tr>\n",
       "      <th>0</th>\n",
       "      <td>6.582201</td>\n",
       "      <td>7.549684</td>\n",
       "      <td>10.569558</td>\n",
       "      <td>3.643766</td>\n",
       "      <td>0.005898</td>\n",
       "      <td>1.915841</td>\n",
       "    </tr>\n",
       "    <tr>\n",
       "      <th>1</th>\n",
       "      <td>1.831988</td>\n",
       "      <td>3.528631</td>\n",
       "      <td>9.955499</td>\n",
       "      <td>3.370533</td>\n",
       "      <td>8.165501</td>\n",
       "      <td>7.008504</td>\n",
       "    </tr>\n",
       "    <tr>\n",
       "      <th>2</th>\n",
       "      <td>6.542684</td>\n",
       "      <td>2.558430</td>\n",
       "      <td>2.756311</td>\n",
       "      <td>0.379581</td>\n",
       "      <td>2.303282</td>\n",
       "      <td>2.859184</td>\n",
       "    </tr>\n",
       "    <tr>\n",
       "      <th>3</th>\n",
       "      <td>0.757969</td>\n",
       "      <td>4.908984</td>\n",
       "      <td>9.096857</td>\n",
       "      <td>4.637076</td>\n",
       "      <td>7.187772</td>\n",
       "      <td>9.088998</td>\n",
       "    </tr>\n",
       "    <tr>\n",
       "      <th>4</th>\n",
       "      <td>7.384097</td>\n",
       "      <td>6.925599</td>\n",
       "      <td>5.267733</td>\n",
       "      <td>11.057686</td>\n",
       "      <td>3.680709</td>\n",
       "      <td>3.209457</td>\n",
       "    </tr>\n",
       "  </tbody>\n",
       "</table>\n",
       "</div>"
      ],
      "text/plain": [
       "          0         1          2          3         4         5\n",
       "0  6.582201  7.549684  10.569558   3.643766  0.005898  1.915841\n",
       "1  1.831988  3.528631   9.955499   3.370533  8.165501  7.008504\n",
       "2  6.542684  2.558430   2.756311   0.379581  2.303282  2.859184\n",
       "3  0.757969  4.908984   9.096857   4.637076  7.187772  9.088998\n",
       "4  7.384097  6.925599   5.267733  11.057686  3.680709  3.209457"
      ]
     },
     "execution_count": 3,
     "metadata": {},
     "output_type": "execute_result"
    }
   ],
   "source": [
    "#测试数据\n",
    "x,label=make_blobs(centers=4,n_features=6,n_samples=5,random_state=1)#数据\n",
    "pd.DataFrame(np.abs(x))"
   ]
  },
  {
   "cell_type": "code",
   "execution_count": 18,
   "id": "840fc208",
   "metadata": {
    "ExecuteTime": {
     "end_time": "2021-08-21T10:33:26.494294Z",
     "start_time": "2021-08-21T10:33:26.197256Z"
    }
   },
   "outputs": [
    {
     "data": {
      "image/png": "[encoded data removed]",
      "text/plain": [
       "<Figure size 432x288 with 1 Axes>"
      ]
     },
     "metadata": {
      "needs_background": "light"
     },
     "output_type": "display_data"
    }
   ],
   "source": [
    "wj=weights(np.abs(x)).round(4)\n",
    "gg=grade(wj,np.abs(x))/grade(wj,np.abs(x)).max()*100\n",
    "fig,ax=plt.subplots()\n",
    "ax.bar(range(5) ,gg,width=0.5,color='silver',edgecolor='black',linewidth=0.5)\n",
    "ax.plot(range(5) ,gg,color='black')\n",
    "ax.scatter(range(5) ,gg,s=100,color='k')\n",
    "plt.axis('on')\n",
    "plt.xticks(range(5),['对象{}'.format(i) for i in range(5)])\n",
    "plt.savefig(r'./grade.png',dpi=300)\n",
    "plt.show()"
   ]
  },
  {
   "cell_type": "code",
   "execution_count": null,
   "id": "997ebb25",
   "metadata": {
    "ExecuteTime": {
     "end_time": "2021-08-21T10:27:15.301955Z",
     "start_time": "2021-08-21T10:27:15.289967Z"
    }
   },
   "outputs": [],
   "source": []
  },
  {
   "cell_type": "code",
   "execution_count": null,
   "id": "b841fb0d",
   "metadata": {},
   "outputs": [],
   "source": []
  }
 ],
 "metadata": {
  "hide_input": false,
  "kernelspec": {
   "display_name": "Python 3",
   "language": "python",
   "name": "python3"
  },
  "language_info": {
   "codemirror_mode": {
    "name": "ipython",
    "version": 3
   },
   "file_extension": ".py",
   "mimetype": "text/x-python",
   "name": "python",
   "nbconvert_exporter": "python",
   "pygments_lexer": "ipython3",
   "version": "3.8.5"
  },
  "latex_envs": {
   "LaTeX_envs_menu_present": true,
   "autoclose": false,
   "autocomplete": true,
   "bibliofile": "biblio.bib",
   "cite_by": "apalike",
   "current_citInitial": 1,
   "eqLabelWithNumbers": true,
   "eqNumInitial": 1,
   "hotkeys": {
    "equation": "Ctrl-E",
    "itemize": "Ctrl-I"
   },
   "labels_anchors": false,
   "latex_user_defs": false,
   "report_style_numbering": false,
   "user_envs_cfg": false
  },
  "nbTranslate": {
   "displayLangs": [
    "*"
   ],
   "hotkey": "alt-t",
   "langInMainMenu": true,
   "sourceLang": "en",
   "targetLang": "fr",
   "useGoogleTranslate": true
  },
  "toc": {
   "base_numbering": 1,
   "nav_menu": {},
   "number_sections": true,
   "sideBar": true,
   "skip_h1_title": false,
   "title_cell": "Table of Contents",
   "title_sidebar": "Contents",
   "toc_cell": false,
   "toc_position": {},
   "toc_section_display": true,
   "toc_window_display": false
  },
  "varInspector": {
   "cols": {
    "lenName": 16,
    "lenType": 16,
    "lenVar": 40
   },
   "kernels_config": {
    "python": {
     "delete_cmd_postfix": "",
     "delete_cmd_prefix": "del ",
     "library": "var_list.py",
     "varRefreshCmd": "print(var_dic_list())"
    },
    "r": {
     "delete_cmd_postfix": ") ",
     "delete_cmd_prefix": "rm(",
     "library": "var_list.r",
     "varRefreshCmd": "cat(var_dic_list()) "
    }
   },
   "types_to_exclude": [
    "module",
    "function",
    "builtin_function_or_method",
    "instance",
    "_Feature"
   ],
   "window_display": false
  }
 },
 "nbformat": 4,
 "nbformat_minor": 5
}
